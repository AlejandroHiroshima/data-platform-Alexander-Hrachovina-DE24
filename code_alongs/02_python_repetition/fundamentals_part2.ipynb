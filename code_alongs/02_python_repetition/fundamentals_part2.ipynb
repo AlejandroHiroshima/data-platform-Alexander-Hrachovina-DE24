{
 "cells": [
  {
   "cell_type": "markdown",
   "metadata": {},
   "source": [
    "## Code alongs Fundamentals part 2\n"
   ]
  },
  {
   "cell_type": "markdown",
   "metadata": {},
   "source": [
    "## Error handling\n",
    "\n",
    " - Syntax errors\n",
    " - runtime errors\n",
    " - logical errors\n",
    " "
   ]
  },
  {
   "cell_type": "code",
   "execution_count": 15,
   "metadata": {},
   "outputs": [
    {
     "ename": "NameError",
     "evalue": "name 'prin' is not defined",
     "output_type": "error",
     "traceback": [
      "\u001b[1;31m---------------------------------------------------------------------------\u001b[0m",
      "\u001b[1;31mNameError\u001b[0m                                 Traceback (most recent call last)",
      "Cell \u001b[1;32mIn[15], line 2\u001b[0m\n\u001b[0;32m      1\u001b[0m \u001b[38;5;66;03m# syntax error\u001b[39;00m\n\u001b[1;32m----> 2\u001b[0m \u001b[43mprin\u001b[49m(\u001b[38;5;124m\"\u001b[39m\u001b[38;5;124mhej\u001b[39m\u001b[38;5;124m\"\u001b[39m)\n",
      "\u001b[1;31mNameError\u001b[0m: name 'prin' is not defined"
     ]
    }
   ],
   "source": [
    "# syntax error\n",
    "prin(\"hej\")"
   ]
  },
  {
   "cell_type": "code",
   "execution_count": 1,
   "metadata": {},
   "outputs": [
    {
     "ename": "IndexError",
     "evalue": "list index out of range",
     "output_type": "error",
     "traceback": [
      "\u001b[1;31m---------------------------------------------------------------------------\u001b[0m",
      "\u001b[1;31mIndexError\u001b[0m                                Traceback (most recent call last)",
      "Cell \u001b[1;32mIn[1], line 2\u001b[0m\n\u001b[0;32m      1\u001b[0m numbers \u001b[38;5;241m=\u001b[39m \u001b[38;5;28mlist\u001b[39m(\u001b[38;5;28mrange\u001b[39m(\u001b[38;5;241m19\u001b[39m))\n\u001b[1;32m----> 2\u001b[0m \u001b[43mnumbers\u001b[49m\u001b[43m[\u001b[49m\u001b[38;5;241;43m19\u001b[39;49m\u001b[43m]\u001b[49m\n",
      "\u001b[1;31mIndexError\u001b[0m: list index out of range"
     ]
    }
   ],
   "source": [
    "# Runtime error\n",
    "numbers = list(range(19))\n",
    "numbers[19]"
   ]
  },
  {
   "cell_type": "code",
   "execution_count": 2,
   "metadata": {},
   "outputs": [
    {
     "name": "stdout",
     "output_type": "stream",
     "text": [
      "area_circle = 31.42 a.u.\n"
     ]
    }
   ],
   "source": [
    "import numpy as np\n",
    "\n",
    "radius = 10\n",
    "# np.pi *radius**2 is the area of the circle -> logical error\n",
    "area_circle = radius * np.pi\n",
    "\n",
    "print(f\"{area_circle = :.2f} a.u.\")"
   ]
  },
  {
   "cell_type": "markdown",
   "metadata": {},
   "source": [
    "## Handle errors\n",
    "\n",
    "- Try - execpt"
   ]
  },
  {
   "cell_type": "code",
   "execution_count": 1,
   "metadata": {},
   "outputs": [
    {
     "data": {
      "text/plain": [
       "'39'"
      ]
     },
     "execution_count": 1,
     "metadata": {},
     "output_type": "execute_result"
    }
   ],
   "source": [
    "age = input(\"enter yor age: \")\n",
    "age"
   ]
  },
  {
   "cell_type": "code",
   "execution_count": null,
   "metadata": {},
   "outputs": [],
   "source": [
    "while True:\n",
    "    try:\n",
    "# type casting might give ValueError\n",
    "        age = int(input(\"enter yor age: \"))\n",
    "        if not 0 <= age <= 125:\n",
    "            raise ValueError(f\"Age must be between 0 and 125, not {age}\")\n",
    "        break\n",
    "    except ValueError as err:\n",
    "        print(err)\n",
    "age"
   ]
  },
  {
   "cell_type": "markdown",
   "metadata": {},
   "source": [
    "## functions\n",
    "\n",
    "- avoid spaghetti code\n",
    "- change one place\n",
    "- DRY - Don't repeat yourself\n",
    "- organize code\n",
    "- make code modular\n",
    "- breakdown complex programs"
   ]
  },
  {
   "cell_type": "code",
   "execution_count": 5,
   "metadata": {},
   "outputs": [
    {
     "data": {
      "text/plain": [
       "-5"
      ]
     },
     "execution_count": 5,
     "metadata": {},
     "output_type": "execute_result"
    }
   ],
   "source": [
    "# number1 and number2 are parameters\n",
    "def smallest_of_two(number1, number2):\n",
    "    return number1 if number1 < number2 else number2 # oneline if-else\n",
    "\n",
    "#positional arguments\n",
    "smallest_of_two(2,-5)"
   ]
  },
  {
   "cell_type": "code",
   "execution_count": null,
   "metadata": {},
   "outputs": [],
   "source": [
    "#keyword arguments\n",
    "smallest_of_two(number1=-5, number2=-5)"
   ]
  },
  {
   "cell_type": "code",
   "execution_count": null,
   "metadata": {},
   "outputs": [],
   "source": [
    "# Mixed positional and keyword arguments\n",
    "\n",
    "smallest_of_two(-5, number2=-9)"
   ]
  },
  {
   "cell_type": "markdown",
   "metadata": {},
   "source": [
    "**default value**"
   ]
  },
  {
   "cell_type": "code",
   "execution_count": 1,
   "metadata": {},
   "outputs": [
    {
     "name": "stdout",
     "output_type": "stream",
     "text": [
      "ooooo\n",
      "ooo\n"
     ]
    }
   ],
   "source": [
    "# x o o o o\n",
    "# x x o o o \n",
    "# x x x o o\n",
    "# x x x x x \n",
    "def draw_ascii_pattern(number_rows = 5):\n",
    "    print(number_rows*\"o\")\n",
    "\n",
    "# note default value: number_rows = 5\n",
    "draw_ascii_pattern()\n",
    "\n",
    "draw_ascii_pattern(3)"
   ]
  },
  {
   "cell_type": "code",
   "execution_count": 6,
   "metadata": {},
   "outputs": [
    {
     "name": "stdout",
     "output_type": "stream",
     "text": [
      "x o o o o \n",
      "x x o o o \n",
      "x x x o o \n",
      "x x x x o \n",
      "x x x x x \n",
      "x o \n",
      "x x \n",
      "x o o o \n",
      "x x o o \n",
      "x x x o \n",
      "x x x x \n"
     ]
    }
   ],
   "source": [
    "#number_rows = 5 is a default value\n",
    "def draw_ascii_pattern(number_rows=5):\n",
    "    for i in range(1, number_rows + 1):\n",
    "        print(i * \"x \" + (number_rows - i) * \"o \")\n",
    "\n",
    "draw_ascii_pattern()\n",
    "draw_ascii_pattern(2)\n",
    "draw_ascii_pattern(4)"
   ]
  },
  {
   "cell_type": "markdown",
   "metadata": {},
   "source": [
    "\\*args"
   ]
  },
  {
   "cell_type": "code",
   "execution_count": 3,
   "metadata": {},
   "outputs": [
    {
     "name": "stdout",
     "output_type": "stream",
     "text": [
      "(1, 2, 3, 4)\n"
     ]
    }
   ],
   "source": [
    "def mean_(*args):\n",
    "    print(args)\n",
    "\n",
    "#prints out a tuple\n",
    "mean_(1,2,3,4)"
   ]
  },
  {
   "cell_type": "code",
   "execution_count": 4,
   "metadata": {},
   "outputs": [
    {
     "name": "stdout",
     "output_type": "stream",
     "text": [
      "(1, 2)\n"
     ]
    }
   ],
   "source": [
    "mean_(1,2)"
   ]
  },
  {
   "cell_type": "code",
   "execution_count": 9,
   "metadata": {},
   "outputs": [
    {
     "data": {
      "text/plain": [
       "2.0"
      ]
     },
     "execution_count": 9,
     "metadata": {},
     "output_type": "execute_result"
    }
   ],
   "source": [
    "#args ger tillbaka en tuple\n",
    "def mean_(*args):\n",
    "    sum_ = 0\n",
    "\n",
    "    for arg in args:\n",
    "        sum_ += arg\n",
    "    return sum_/len(args)\n",
    "\n",
    "mean_(1,2,3)"
   ]
  },
  {
   "cell_type": "markdown",
   "metadata": {},
   "source": [
    "**kwargs"
   ]
  },
  {
   "cell_type": "code",
   "execution_count": 11,
   "metadata": {},
   "outputs": [
    {
     "name": "stdout",
     "output_type": "stream",
     "text": [
      "{'a': 5, 'is_acitve': True, 'age': 33}\n",
      "options.keys() = dict_keys(['a', 'is_acitve', 'age'])\n",
      "options.values() = dict_values([5, True, 33])\n"
     ]
    }
   ],
   "source": [
    "#kwargs ger tillbaka en dict\n",
    "def print_kwargs(**options):\n",
    "    print(options)\n",
    "    print(f\"{options.keys() = }\")\n",
    "    print(f\"{options.values() = }\")\n",
    "print_kwargs(a = 5, is_acitve = True, age = 33, )"
   ]
  },
  {
   "cell_type": "code",
   "execution_count": 17,
   "metadata": {},
   "outputs": [
    {
     "name": "stdout",
     "output_type": "stream",
     "text": [
      "[[4 2]]\n",
      "[[2 4]\n",
      " [1 3]\n",
      " [4 3]\n",
      " [1 6]]\n"
     ]
    },
    {
     "data": {
      "text/plain": [
       "(None, None)"
      ]
     },
     "execution_count": 17,
     "metadata": {},
     "output_type": "execute_result"
    }
   ],
   "source": [
    "import numpy as np\n",
    "def simulate_dices(throws = 1, dices = 2):\n",
    "    print(np.random.randint(1,7, (throws, dices)))\n",
    "\n",
    "simulate_dices(), simulate_dices(4)"
   ]
  },
  {
   "cell_type": "code",
   "execution_count": 5,
   "metadata": {},
   "outputs": [
    {
     "name": "stdout",
     "output_type": "stream",
     "text": [
      "[[1 1 4]\n",
      " [4 5 6]]\n"
     ]
    }
   ],
   "source": [
    "# lista som argument\n",
    "option_list = [2,3]\n",
    "\n",
    "simulate_dices(*option_list) # * behöves för att 'unpacka' listan, så det kan användas som argument"
   ]
  },
  {
   "cell_type": "code",
   "execution_count": 6,
   "metadata": {},
   "outputs": [
    {
     "name": "stdout",
     "output_type": "stream",
     "text": [
      "[[2 5]\n",
      " [1 6]\n",
      " [4 2]\n",
      " [1 4]]\n"
     ]
    }
   ],
   "source": [
    "# dict som argument\n",
    "option_dict = dict(dices=2, throws=4)\n",
    "simulate_dices(**option_dict) ## ** behövs när man ska unpacka en dict"
   ]
  },
  {
   "cell_type": "markdown",
   "metadata": {},
   "source": [
    "## Lambda functions"
   ]
  },
  {
   "cell_type": "code",
   "execution_count": 8,
   "metadata": {},
   "outputs": [
    {
     "data": {
      "text/plain": [
       "27"
      ]
     },
     "execution_count": 8,
     "metadata": {},
     "output_type": "execute_result"
    }
   ],
   "source": [
    "cuber = lambda x: x**3 # Som en enrads funktion\n",
    "cuber(3)"
   ]
  },
  {
   "cell_type": "code",
   "execution_count": 9,
   "metadata": {},
   "outputs": [
    {
     "data": {
      "text/plain": [
       "[('Alice', 85), ('Bob', 92), ('Charlie', 78), ('David', 95)]"
      ]
     },
     "execution_count": 9,
     "metadata": {},
     "output_type": "execute_result"
    }
   ],
   "source": [
    "students = [(\"Alice\", 85), (\"Bob\", 92), (\"Charlie\", 78), (\"David\", 95)]\n",
    "sorted(students)"
   ]
  },
  {
   "cell_type": "code",
   "execution_count": 10,
   "metadata": {},
   "outputs": [
    {
     "data": {
      "text/plain": [
       "[('Charlie', 78), ('Alice', 85), ('Bob', 92), ('David', 95)]"
      ]
     },
     "execution_count": 10,
     "metadata": {},
     "output_type": "execute_result"
    }
   ],
   "source": [
    "sorted(students, key = lambda student: student[1])"
   ]
  },
  {
   "cell_type": "markdown",
   "metadata": {},
   "source": [
    "## Matplotlib"
   ]
  },
  {
   "cell_type": "code",
   "execution_count": 19,
   "metadata": {},
   "outputs": [
    {
     "data": {
      "text/plain": [
       "((-5, -4, -3, -2, -1, 0, 1, 2, 3, 4), [-17, -14, -11, -8, -5, -2, 1, 4, 7, 10])"
      ]
     },
     "execution_count": 19,
     "metadata": {},
     "output_type": "execute_result"
    },
    {
     "data": {
      "image/png": "[encoded data removed]",
      "text/plain": [
       "<Figure size 640x480 with 1 Axes>"
      ]
     },
     "metadata": {},
     "output_type": "display_data"
    }
   ],
   "source": [
    "import matplotlib.pyplot as plt\n",
    "\n",
    "f = lambda x: 3 * x - 2\n",
    "def g(x):\n",
    "    return x**2-2\n",
    "x = tuple(range(-5,5))\n",
    "\n",
    "y = [f(i) for i in x]\n",
    "y2 = [g(i) for i in x]\n",
    "\n",
    "\n",
    "plt.plot(x, y)\n",
    "plt.plot(x,y2)\n",
    "plt.title(\"plotting two functions\")\n",
    "plt.xlabel(\"x\")\n",
    "plt.ylabel(\"y\")\n",
    "plt.legend([\"$f(x) = 3x - 2$\", \"$g(x) = x^2-2$\"])\n",
    "x, y "
   ]
  },
  {
   "cell_type": "markdown",
   "metadata": {},
   "source": [
    "**numpy for plotting**\n"
   ]
  },
  {
   "cell_type": "code",
   "execution_count": 18,
   "metadata": {},
   "outputs": [
    {
     "data": {
      "text/plain": [
       "array([-3.14159265, -3.01336438, -2.88513611, -2.75690784, -2.62867957,\n",
       "       -2.5004513 , -2.37222302, -2.24399475, -2.11576648, -1.98753821,\n",
       "       -1.85930994, -1.73108167, -1.60285339, -1.47462512, -1.34639685,\n",
       "       -1.21816858, -1.08994031, -0.96171204, -0.83348377, -0.70525549,\n",
       "       -0.57702722, -0.44879895, -0.32057068, -0.19234241, -0.06411414,\n",
       "        0.06411414,  0.19234241,  0.32057068,  0.44879895,  0.57702722,\n",
       "        0.70525549,  0.83348377,  0.96171204,  1.08994031,  1.21816858,\n",
       "        1.34639685,  1.47462512,  1.60285339,  1.73108167,  1.85930994,\n",
       "        1.98753821,  2.11576648,  2.24399475,  2.37222302,  2.5004513 ,\n",
       "        2.62867957,  2.75690784,  2.88513611,  3.01336438,  3.14159265])"
      ]
     },
     "execution_count": 18,
     "metadata": {},
     "output_type": "execute_result"
    }
   ],
   "source": [
    "x = np.linspace(-np.pi, np.pi)\n",
    "x"
   ]
  },
  {
   "cell_type": "code",
   "execution_count": 19,
   "metadata": {},
   "outputs": [
    {
     "data": {
      "text/plain": [
       "array([  0.        ,  15.85714286,  31.71428571,  47.57142857,\n",
       "        63.42857143,  79.28571429,  95.14285714, 111.        ,\n",
       "       126.85714286, 142.71428571, 158.57142857, 174.42857143,\n",
       "       190.28571429, 206.14285714, 222.        , 237.85714286,\n",
       "       253.71428571, 269.57142857, 285.42857143, 301.28571429,\n",
       "       317.14285714, 333.        , 348.85714286, 364.71428571,\n",
       "       380.57142857, 396.42857143, 412.28571429, 428.14285714,\n",
       "       444.        , 459.85714286, 475.71428571, 491.57142857,\n",
       "       507.42857143, 523.28571429, 539.14285714, 555.        ,\n",
       "       570.85714286, 586.71428571, 602.57142857, 618.42857143,\n",
       "       634.28571429, 650.14285714, 666.        , 681.85714286,\n",
       "       697.71428571, 713.57142857, 729.42857143, 745.28571429,\n",
       "       761.14285714, 777.        ])"
      ]
     },
     "execution_count": 19,
     "metadata": {},
     "output_type": "execute_result"
    }
   ],
   "source": [
    "np.linspace(0,777)"
   ]
  },
  {
   "cell_type": "code",
   "execution_count": null,
   "metadata": {},
   "outputs": [
    {
     "name": "stderr",
     "output_type": "stream",
     "text": [
      "<>:9: SyntaxWarning: invalid escape sequence '\\s'\n",
      "<>:9: SyntaxWarning: invalid escape sequence '\\s'\n",
      "C:\\Users\\alexa\\AppData\\Local\\Temp\\ipykernel_27088\\4113160069.py:9: SyntaxWarning: invalid escape sequence '\\s'\n",
      "  ax.plot(x, g(x), label = \"$g(x) = \\sin{x} + 5$\")\n"
     ]
    },
    {
     "data": {
      "text/plain": [
       "<matplotlib.legend.Legend at 0x26ca3abe720>"
      ]
     },
     "execution_count": 27,
     "metadata": {},
     "output_type": "execute_result"
    },
    {
     "data": {
      "image/png": "[encoded data removed]",
      "text/plain": [
       "<Figure size 640x480 with 1 Axes>"
      ]
     },
     "metadata": {},
     "output_type": "display_data"
    },
    {
     "data": {
      "text/plain": [
       "<Figure size 640x480 with 0 Axes>"
      ]
     },
     "metadata": {},
     "output_type": "display_data"
    }
   ],
   "source": [
    "f = lambda x: x**2 +1\n",
    "g = lambda x: np.sin(x) +5\n",
    "\n",
    "# OOP approach\n",
    "\n",
    "ax, fig = plt.axes(), plt.figure()\n",
    "\n",
    "ax.plot(x, f(x), label = \"$f(x) = x^2 + 1$\") # Som plt.legend\n",
    "ax.plot(x, g(x), label = \"$g(x) = \\sin{x} + 5$\") # Som plt.legend\n",
    "ax.set(title = \"Two graphs\", xlabel=\"X\", ylabel=\"Y\") # som plt.ylabel, plt.xlabel och plt.title\n",
    "ax.legend() # utan denna skrivs inte legend, som i detta fall är med på rad 8 och 9"
   ]
  },
  {
   "cell_type": "markdown",
   "metadata": {},
   "source": [
    "## File handling\n"
   ]
  },
  {
   "cell_type": "code",
   "execution_count": 15,
   "metadata": {},
   "outputs": [
    {
     "data": {
      "text/plain": [
       "'SUperViseD LEARNinG IS a PaRt oF MaCHinE LEARniNG, wheRE aLgORithms LEARn FRom a tRAINIng DaTa Set. THese aLgORithms TRY TO MaKE SeNSe Of ThE DaTa BY MaTChiNG INpUtS TO CoRResPonDInG OutpUTs. In suPERviseD LEARNing, EACH DaTa PoINt in ThE tRAINIng Set IS LaBELEd WiTH ThE CoRReCT OutpUT, WHich aLLOWS thE ALgORithM To LEARn FRom ThE ExAMPles. THis alLOWS thE ALgORithM To MaKe PREDIcTions On UnSEEN DaTa, BaSED On ITs TRaiNIng. iT IS USEd FoR taSKS SuCH AS CLaSSIFICaTion, WheRE ThE GoAL IS To aSSIGn a LaBEL To InpUt DaTa, anD REGrESsIoN, WheRE ThE GoAL IS To PREDIcT a CoNtINuoUS OutpUT VaRIabLE. SuPERviseD LEARNing HaS MaNY APPLIcatIoNS In ArEas LIke Image ReCOGNitiON, NatuRaL LaNGuaGE PRoCESSINg, anD FiNaNCiaL FoRECasting.'"
      ]
     },
     "execution_count": 15,
     "metadata": {},
     "output_type": "execute_result"
    }
   ],
   "source": [
    "# 'r' betyder read, att den ska läsa filen\n",
    "# re är som regexp i sql ungefär\n",
    "import re\n",
    "with open(\"data/ml_text_raw.txt\", 'r') as file:\n",
    "    raw_text = file.read()\n",
    "    \n",
    "text_fixed_spacing = re.sub(r\"\\s+\", \" \",raw_text)\n",
    "text_fixed_spacing"
   ]
  },
  {
   "cell_type": "code",
   "execution_count": 16,
   "metadata": {},
   "outputs": [
    {
     "data": {
      "text/plain": [
       "['SUperViseD LEARNinG IS a PaRt oF MaCHinE LEARniNG, wheRE aLgORithms LEARn FRom a tRAINIng DaTa Set',\n",
       " 'THese aLgORithms TRY TO MaKE SeNSe Of ThE DaTa BY MaTChiNG INpUtS TO CoRResPonDInG OutpUTs',\n",
       " 'In suPERviseD LEARNing, EACH DaTa PoINt in ThE tRAINIng Set IS LaBELEd WiTH ThE CoRReCT OutpUT, WHich aLLOWS thE ALgORithM To LEARn FRom ThE ExAMPles',\n",
       " 'THis alLOWS thE ALgORithM To MaKe PREDIcTions On UnSEEN DaTa, BaSED On ITs TRaiNIng',\n",
       " 'iT IS USEd FoR taSKS SuCH AS CLaSSIFICaTion, WheRE ThE GoAL IS To aSSIGn a LaBEL To InpUt DaTa, anD REGrESsIoN, WheRE ThE GoAL IS To PREDIcT a CoNtINuoUS OutpUT VaRIabLE',\n",
       " 'SuPERviseD LEARNing HaS MaNY APPLIcatIoNS In ArEas LIke Image ReCOGNitiON, NatuRaL LaNGuaGE PRoCESSINg, anD FiNaNCiaL FoRECasting.']"
      ]
     },
     "execution_count": 16,
     "metadata": {},
     "output_type": "execute_result"
    }
   ],
   "source": [
    "text_fixed_spacing.split(\". \")"
   ]
  },
  {
   "cell_type": "code",
   "execution_count": 21,
   "metadata": {},
   "outputs": [
    {
     "data": {
      "text/plain": [
       "['Supervised learning is a part of machine learning, where algorithms learn from a training data set',\n",
       " 'These algorithms try to make sense of the data by matching inputs to corresponding outputs',\n",
       " 'In supervised learning, each data point in the training set is labeled with the correct output, which allows the algorithm to learn from the examples',\n",
       " 'This allows the algorithm to make predictions on unseen data, based on its training',\n",
       " 'It is used for tasks such as classification, where the goal is to assign a label to input data, and regression, where the goal is to predict a continuous output variable']"
      ]
     },
     "execution_count": 21,
     "metadata": {},
     "output_type": "execute_result"
    }
   ],
   "source": [
    "sentences = [text.strip().capitalize() for text in text_fixed_spacing.split(\". \")]\n",
    "\n",
    "sentences = sentences[:-1]\n",
    "sentences"
   ]
  },
  {
   "cell_type": "code",
   "execution_count": 26,
   "metadata": {},
   "outputs": [
    {
     "name": "stdout",
     "output_type": "stream",
     "text": [
      "Supervised learning is a part of machine learning, where algorithms learn from a training data set.\n",
      "\n",
      "These algorithms try to make sense of the data by matching inputs to corresponding outputs.\n",
      "\n",
      "In supervised learning, each data point in the training set is labeled with the correct output, which allows the algorithm to learn from the examples.\n",
      "\n",
      "This allows the algorithm to make predictions on unseen data, based on its training.\n",
      "\n",
      "It is used for tasks such as classification, where the goal is to assign a label to input data, and regression, where the goal is to predict a continuous output variable\n"
     ]
    }
   ],
   "source": [
    "cleaned_text = \".\\n\\n\".join(sentences)\n",
    "print(cleaned_text)"
   ]
  },
  {
   "cell_type": "code",
   "execution_count": 27,
   "metadata": {},
   "outputs": [],
   "source": [
    "# 'w' (write) skapar ny fil. hade det vart 'a' hade den appendat\n",
    "with open(\"data/cleaned_ml_text.txt\", \"w\") as file:\n",
    "    file.write(cleaned_text)"
   ]
  },
  {
   "cell_type": "markdown",
   "metadata": {},
   "source": [
    "## Datetime"
   ]
  },
  {
   "cell_type": "code",
   "execution_count": 2,
   "metadata": {},
   "outputs": [
    {
     "data": {
      "text/plain": [
       "datetime.datetime(2025, 1, 19, 13, 54, 31, 115114)"
      ]
     },
     "execution_count": 2,
     "metadata": {},
     "output_type": "execute_result"
    }
   ],
   "source": [
    "from datetime import datetime\n",
    "\n",
    "now = datetime.now()\n",
    "now"
   ]
  },
  {
   "cell_type": "code",
   "execution_count": 3,
   "metadata": {},
   "outputs": [
    {
     "data": {
      "text/plain": [
       "datetime.date(2025, 1, 19)"
      ]
     },
     "execution_count": 3,
     "metadata": {},
     "output_type": "execute_result"
    }
   ],
   "source": [
    "now.date()"
   ]
  },
  {
   "cell_type": "code",
   "execution_count": 6,
   "metadata": {},
   "outputs": [
    {
     "data": {
      "text/plain": [
       "('Sunday', '02', '2025')"
      ]
     },
     "execution_count": 6,
     "metadata": {},
     "output_type": "execute_result"
    }
   ],
   "source": [
    "now.strftime(\"%A\"), now.strftime(\"%W\"), now.strftime(\"%Y\") # Visar veckodagen, veckonumret och år"
   ]
  },
  {
   "cell_type": "code",
   "execution_count": 8,
   "metadata": {},
   "outputs": [
    {
     "data": {
      "text/plain": [
       "datetime.datetime(2025, 6, 5, 0, 0)"
      ]
     },
     "execution_count": 8,
     "metadata": {},
     "output_type": "execute_result"
    }
   ],
   "source": [
    "graduation_date = \"5/6-2025\"\n",
    "graduation_date = datetime.strptime(graduation_date, \"%d/%m-%Y\") # ändras datumet till en sträng av visst format (D,M,Y)\n",
    "graduation_date"
   ]
  },
  {
   "cell_type": "code",
   "execution_count": 10,
   "metadata": {},
   "outputs": [
    {
     "data": {
      "text/plain": [
       "datetime.timedelta(days=136, seconds=36328, microseconds=884886)"
      ]
     },
     "execution_count": 10,
     "metadata": {},
     "output_type": "execute_result"
    }
   ],
   "source": [
    "remainging_time = graduation_date - now\n",
    "remainging_time"
   ]
  },
  {
   "cell_type": "code",
   "execution_count": 11,
   "metadata": {},
   "outputs": [
    {
     "name": "stdout",
     "output_type": "stream",
     "text": [
      "136 days, 10:05:28.884886\n"
     ]
    }
   ],
   "source": [
    "print(remainging_time)"
   ]
  },
  {
   "cell_type": "code",
   "execution_count": 12,
   "metadata": {},
   "outputs": [
    {
     "data": {
      "text/plain": [
       "0.3726027397260274"
      ]
     },
     "execution_count": 12,
     "metadata": {},
     "output_type": "execute_result"
    }
   ],
   "source": [
    "remainging_time.days/365 # visar antal år"
   ]
  }
 ],
 "metadata": {
  "kernelspec": {
   "display_name": ".venv",
   "language": "python",
   "name": "python3"
  },
  "language_info": {
   "codemirror_mode": {
    "name": "ipython",
    "version": 3
   },
   "file_extension": ".py",
   "mimetype": "text/x-python",
   "name": "python",
   "nbconvert_exporter": "python",
   "pygments_lexer": "ipython3",
   "version": "3.12.5"
  }
 },
 "nbformat": 4,
 "nbformat_minor": 2
}

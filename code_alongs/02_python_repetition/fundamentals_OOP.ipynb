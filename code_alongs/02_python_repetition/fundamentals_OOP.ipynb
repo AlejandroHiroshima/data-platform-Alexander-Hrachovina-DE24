{
 "cells": [
  {
   "cell_type": "markdown",
   "metadata": {},
   "source": [
    "# Python fundamentals part 3 - OOP"
   ]
  },
  {
   "cell_type": "code",
   "execution_count": 22,
   "metadata": {},
   "outputs": [
    {
     "name": "stdout",
     "output_type": "stream",
     "text": [
      "C:\\Users\\alexa\\Documents\\github\\SQL-Alexander-Hrachovina-DE24\\dataplatforms\\data-platform-Alexander-Hrachovina-DE24\\.venv\n"
     ]
    }
   ],
   "source": [
    "import os # Kollar om man är i en virtuell miljö\n",
    "print(os.getenv('VIRTUAL_ENV'))"
   ]
  },
  {
   "cell_type": "code",
   "execution_count": 23,
   "metadata": {},
   "outputs": [
    {
     "data": {
      "text/plain": [
       "<__main__.Addmission at 0x117c7abe720>"
      ]
     },
     "execution_count": 23,
     "metadata": {},
     "output_type": "execute_result"
    }
   ],
   "source": [
    "class Addmission:\n",
    "    def __init__(self, school, program, name, accept):\n",
    "        self.school = school\n",
    "        self.program = program\n",
    "        self.name = name\n",
    "        self.accept = accept\n",
    "\n",
    "student1 = Addmission(\"Cool school\", \"AI\", accept=True, name=\"Alex\") # blandat positional arguements och keyword args\n",
    "student1\n"
   ]
  },
  {
   "cell_type": "code",
   "execution_count": 24,
   "metadata": {},
   "outputs": [
    {
     "data": {
      "text/plain": [
       "<__main__.Addmission at 0x117c7a3cb90>"
      ]
     },
     "execution_count": 24,
     "metadata": {},
     "output_type": "execute_result"
    }
   ],
   "source": [
    "student2 = Addmission(\"Cooler school\", \"Data science\", accept=False, name=\"Gore bord\")\n",
    "student2"
   ]
  },
  {
   "cell_type": "code",
   "execution_count": 25,
   "metadata": {},
   "outputs": [
    {
     "data": {
      "text/plain": [
       "('AI', 'Alex', True)"
      ]
     },
     "execution_count": 25,
     "metadata": {},
     "output_type": "execute_result"
    }
   ],
   "source": [
    "student1.program, student1.name, student1.accept # för att printa ut olika attribut\n"
   ]
  },
  {
   "cell_type": "code",
   "execution_count": 26,
   "metadata": {},
   "outputs": [
    {
     "data": {
      "text/plain": [
       "'UX'"
      ]
     },
     "execution_count": 26,
     "metadata": {},
     "output_type": "execute_result"
    }
   ],
   "source": [
    "student2.program = \"UX\" # skriver över attributet som redan finns\n",
    "student2.program"
   ]
  },
  {
   "cell_type": "code",
   "execution_count": 27,
   "metadata": {},
   "outputs": [
    {
     "data": {
      "text/plain": [
       "('0x117c7abe720', '0x117c7a3cb90')"
      ]
     },
     "execution_count": 27,
     "metadata": {},
     "output_type": "execute_result"
    }
   ],
   "source": [
    "hex(id(student1)), hex(id(student2))"
   ]
  },
  {
   "cell_type": "markdown",
   "metadata": {},
   "source": [
    "## \\_\\_repr__\n",
    "\n",
    "- \"dunder repper\"\n",
    "- methon for representing an object or an instance"
   ]
  },
  {
   "cell_type": "code",
   "execution_count": 34,
   "metadata": {},
   "outputs": [
    {
     "data": {
      "text/plain": [
       "(Addmission(school= 'Cool school', program = 'Haskell', name = 'Ada Lovelace', accept = True),\n",
       " Addmission(school= 'Cool school', program = 'AI', name = 'Alex', accept = True))"
      ]
     },
     "execution_count": 34,
     "metadata": {},
     "output_type": "execute_result"
    }
   ],
   "source": [
    "class Addmission:\n",
    "    def __init__(self, school, program, name, accept):\n",
    "        self.school = school\n",
    "        self.program = program\n",
    "        self.name = name\n",
    "        self.accept = accept\n",
    "    \n",
    "    def __repr__(self):\n",
    "        return f\"Addmission(school= '{self.school}', program = '{self.program}', name = '{self.name}', accept = {self.accept})\"\n",
    "student1 = Addmission(\"Cool school\", \"AI\", accept=True, name=\"Alex\")\n",
    "student3 = Addmission(\"Cool school\", \"Haskell\", \"Ada Lovelace\", True)\n",
    "student3, student1"
   ]
  },
  {
   "cell_type": "code",
   "execution_count": 31,
   "metadata": {},
   "outputs": [
    {
     "data": {
      "text/plain": [
       "\"Addmission(school= 'Cool school', program = 'Haskell', name = 'Ada Lovelace', accept = True)\""
      ]
     },
     "execution_count": 31,
     "metadata": {},
     "output_type": "execute_result"
    }
   ],
   "source": [
    "repr(student3)"
   ]
  },
  {
   "cell_type": "code",
   "execution_count": 36,
   "metadata": {},
   "outputs": [
    {
     "data": {
      "text/plain": [
       "\"Addmission(school= 'Cool school', program = 'AI', name = 'Alex', accept = True)\""
      ]
     },
     "execution_count": 36,
     "metadata": {},
     "output_type": "execute_result"
    }
   ],
   "source": [
    "str(student1)"
   ]
  },
  {
   "cell_type": "markdown",
   "metadata": {},
   "source": [
    "## Documentation\n",
    "\n",
    "- docstring\n",
    "- type hinting"
   ]
  },
  {
   "cell_type": "code",
   "execution_count": 37,
   "metadata": {},
   "outputs": [
    {
     "data": {
      "text/plain": [
       "Student(name'Gore Bord', age =55, active=True"
      ]
     },
     "execution_count": 37,
     "metadata": {},
     "output_type": "execute_result"
    }
   ],
   "source": [
    "class Student:\n",
    "    def __init__(self, name: str, age: int, active: bool) ->None:\n",
    "        self.name = name\n",
    "        self.age = age\n",
    "        self.active = active\n",
    "\n",
    "    def __repr__(self) -> str:\n",
    "        return f\"Student(name'{self.name}', age ={self.age}, active={self.active}\"\n",
    "\n",
    "s1 = Student(\"Gore Bord\", 55, True)\n",
    "s1"
   ]
  }
 ],
 "metadata": {
  "kernelspec": {
   "display_name": ".venv",
   "language": "python",
   "name": "python3"
  },
  "language_info": {
   "codemirror_mode": {
    "name": "ipython",
    "version": 3
   },
   "file_extension": ".py",
   "mimetype": "text/x-python",
   "name": "python",
   "nbconvert_exporter": "python",
   "pygments_lexer": "ipython3",
   "version": "3.12.5"
  }
 },
 "nbformat": 4,
 "nbformat_minor": 2
}
